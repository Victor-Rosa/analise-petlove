{
 "cells": [
  {
   "cell_type": "markdown",
   "id": "c5f0d46c-04ac-4d66-ae9a-281feccc1e26",
   "metadata": {
    "tags": []
   },
   "source": [
    "# Introdução"
   ]
  },
  {
   "cell_type": "markdown",
   "id": "f5bdafb2-f9d9-44e3-90ea-6055ca88c126",
   "metadata": {
    "tags": []
   },
   "source": [
    "A análise abaixo foi feita utlizando os dados fornecidos pela equipe de engenharia de dados durante o desafio da Petlove.\n",
    "\n",
    "Pontos principais do Desafio:\n",
    "    - Ressaltar os aprendizados da análise dos dados.\n",
    "    - Sugestão para os próximos passos.\n",
    "\n",
    "Perguntas que tentaremos responder com a análise: \n",
    "    - Qual o estado com o maior volume de vendas\n",
    "    - Qual canal converte mais venda"
   ]
  },
  {
   "cell_type": "markdown",
   "id": "77eae117-d80e-437a-8e62-71bdb12ed071",
   "metadata": {},
   "source": [
    "## Carregando Bibliotecas"
   ]
  },
  {
   "cell_type": "markdown",
   "id": "df986930-6db2-4a8c-91a4-53aada6ac079",
   "metadata": {
    "tags": []
   },
   "source": [
    "##### importante que tenha as bibliotecas baixadas em sua maquina (pandas, seaborn, sidetable)\n",
    "##### Caso não tenha instalado em sua máquina as seguintes bibliotecas é só descomentar os scripts abaixo e rodar a célula."
   ]
  },
  {
   "cell_type": "code",
   "execution_count": null,
   "id": "6157eddf-b93c-4848-8bcb-02d97cd34d26",
   "metadata": {},
   "outputs": [],
   "source": [
    "# !pip install pandas\n",
    "# !pip install seaborn\n",
    "# !pip install sidetable"
   ]
  },
  {
   "cell_type": "code",
   "execution_count": 34,
   "id": "79d6415a-5d04-4526-9e6c-686d86721c7b",
   "metadata": {
    "tags": []
   },
   "outputs": [],
   "source": [
    "import pandas as pd\n",
    "import numpy as np\n",
    "import sidetable as stb\n",
    "import datetime as dt\n",
    "\n",
    "# bibiliotecas para visualizacao \n",
    "import seaborn as sns\n",
    "import matplotlib.pyplot as plt\n",
    "\n",
    "# Estilo das visualizacoes\n",
    "plt.style.use('ggplot')"
   ]
  },
  {
   "cell_type": "markdown",
   "id": "0e592523-1e4c-44fe-a5f9-bbfa2761ccf7",
   "metadata": {
    "tags": []
   },
   "source": [
    "## Carregando o Dataset"
   ]
  },
  {
   "cell_type": "code",
   "execution_count": 52,
   "id": "08a6f300-7b92-4a34-bc5f-7ae9910ff029",
   "metadata": {
    "tags": []
   },
   "outputs": [],
   "source": [
    "df = pd.read_csv('./data/data-test-analytics.csv')"
   ]
  },
  {
   "cell_type": "markdown",
   "id": "ca02a8fa-6b65-4a6e-8d54-45c287873d90",
   "metadata": {},
   "source": [
    "### Verificando Valores Nulos e o Tipo de Dados"
   ]
  },
  {
   "cell_type": "code",
   "execution_count": 51,
   "id": "0f7fbcfd-5882-44cd-b00e-331e910759ce",
   "metadata": {
    "tags": []
   },
   "outputs": [
    {
     "name": "stdout",
     "output_type": "stream",
     "text": [
      "<class 'pandas.core.frame.DataFrame'>\n",
      "RangeIndex: 10000 entries, 0 to 9999\n",
      "Data columns (total 20 columns):\n",
      " #   Column              Non-Null Count  Dtype         \n",
      "---  ------              --------------  -----         \n",
      " 0   id                  10000 non-null  object        \n",
      " 1   created_at          10000 non-null  datetime64[ns]\n",
      " 2   updated_at          10000 non-null  datetime64[ns]\n",
      " 3   deleted_at          505 non-null    datetime64[ns]\n",
      " 4   name_hash           10000 non-null  object        \n",
      " 5   email_hash          10000 non-null  object        \n",
      " 6   address_hash        10000 non-null  object        \n",
      " 7   birth_date          10000 non-null  object        \n",
      " 8   status              10000 non-null  object        \n",
      " 9   version             10000 non-null  object        \n",
      " 10  city                10000 non-null  object        \n",
      " 11  state               10000 non-null  object        \n",
      " 12  neighborhood        10000 non-null  object        \n",
      " 13  last_date_purchase  10000 non-null  datetime64[ns]\n",
      " 14  average_ticket      10000 non-null  float64       \n",
      " 15  items_quantity      10000 non-null  int64         \n",
      " 16  all_revenue         10000 non-null  float64       \n",
      " 17  all_orders          10000 non-null  int64         \n",
      " 18  recency             10000 non-null  int64         \n",
      " 19  marketing_source    10000 non-null  object        \n",
      "dtypes: datetime64[ns](4), float64(2), int64(3), object(11)\n",
      "memory usage: 1.5+ MB\n"
     ]
    }
   ],
   "source": [
    "df.info()"
   ]
  },
  {
   "cell_type": "markdown",
   "id": "bbbab2a8-2e3e-4ec9-8382-e634a8eb8117",
   "metadata": {},
   "source": [
    "### Visualizando o Dataset"
   ]
  },
  {
   "cell_type": "code",
   "execution_count": 37,
   "id": "86bda9e1-1830-4e75-9335-49626255188f",
   "metadata": {
    "tags": []
   },
   "outputs": [
    {
     "data": {
      "text/html": [
       "<div>\n",
       "<style scoped>\n",
       "    .dataframe tbody tr th:only-of-type {\n",
       "        vertical-align: middle;\n",
       "    }\n",
       "\n",
       "    .dataframe tbody tr th {\n",
       "        vertical-align: top;\n",
       "    }\n",
       "\n",
       "    .dataframe thead th {\n",
       "        text-align: right;\n",
       "    }\n",
       "</style>\n",
       "<table border=\"1\" class=\"dataframe\">\n",
       "  <thead>\n",
       "    <tr style=\"text-align: right;\">\n",
       "      <th></th>\n",
       "      <th>id</th>\n",
       "      <th>created_at</th>\n",
       "      <th>updated_at</th>\n",
       "      <th>deleted_at</th>\n",
       "      <th>name_hash</th>\n",
       "      <th>email_hash</th>\n",
       "      <th>address_hash</th>\n",
       "      <th>birth_date</th>\n",
       "      <th>status</th>\n",
       "      <th>version</th>\n",
       "      <th>city</th>\n",
       "      <th>state</th>\n",
       "      <th>neighborhood</th>\n",
       "      <th>last_date_purchase</th>\n",
       "      <th>average_ticket</th>\n",
       "      <th>items_quantity</th>\n",
       "      <th>all_revenue</th>\n",
       "      <th>all_orders</th>\n",
       "      <th>recency</th>\n",
       "      <th>marketing_source</th>\n",
       "    </tr>\n",
       "  </thead>\n",
       "  <tbody>\n",
       "    <tr>\n",
       "      <th>0</th>\n",
       "      <td>8bf7960e-3b93-468b-856e-6c6c5b56f52b</td>\n",
       "      <td>08/15/17 07:05 AM</td>\n",
       "      <td>01/14/21 11:23 AM</td>\n",
       "      <td>NaN</td>\n",
       "      <td>312d206168a318614897e8ccac43bff9</td>\n",
       "      <td>83eb3aed9a44377df80ce876dce92c9a</td>\n",
       "      <td>8b4bfaa0cbc41a16f46da15ddcd6a907</td>\n",
       "      <td>07/10/74 12:00 AM</td>\n",
       "      <td>active</td>\n",
       "      <td>2.31.7</td>\n",
       "      <td>Peixoto da Praia</td>\n",
       "      <td>AM</td>\n",
       "      <td>Aparecida 7ª Seção</td>\n",
       "      <td>01/14/21 11:23 AM</td>\n",
       "      <td>151.142942</td>\n",
       "      <td>10</td>\n",
       "      <td>906.857651</td>\n",
       "      <td>6</td>\n",
       "      <td>35</td>\n",
       "      <td>crm</td>\n",
       "    </tr>\n",
       "    <tr>\n",
       "      <th>1</th>\n",
       "      <td>a39535b5-4647-4680-b4f6-3aed57c1f1ff</td>\n",
       "      <td>12/31/19 09:53 PM</td>\n",
       "      <td>01/08/21 11:23 AM</td>\n",
       "      <td>NaN</td>\n",
       "      <td>de448fcb47d0d6a873b2eef52b5ee595</td>\n",
       "      <td>72678bb35e2ac84ed373e81dd9dca28c</td>\n",
       "      <td>22f1cfa1847f38da3f3cb114dd2b9247</td>\n",
       "      <td>07/06/40 12:00 AM</td>\n",
       "      <td>paused</td>\n",
       "      <td>3.30.12</td>\n",
       "      <td>Fernandes</td>\n",
       "      <td>RR</td>\n",
       "      <td>Santa Isabel</td>\n",
       "      <td>01/08/21 11:23 AM</td>\n",
       "      <td>236.991790</td>\n",
       "      <td>4</td>\n",
       "      <td>236.991790</td>\n",
       "      <td>1</td>\n",
       "      <td>41</td>\n",
       "      <td>organic_search</td>\n",
       "    </tr>\n",
       "    <tr>\n",
       "      <th>2</th>\n",
       "      <td>dc067cd2-c021-42bd-8c0e-beb267280e66</td>\n",
       "      <td>03/07/19 11:46 PM</td>\n",
       "      <td>01/07/21 11:23 AM</td>\n",
       "      <td>NaN</td>\n",
       "      <td>cb09e447ddc38283373d56bb46498e6a</td>\n",
       "      <td>668f4ee9add29c7bd02c485f1b7509e3</td>\n",
       "      <td>6cb47446a086ee6483b3eb954f11467a</td>\n",
       "      <td>03/18/63 12:00 AM</td>\n",
       "      <td>active</td>\n",
       "      <td>3.28.9</td>\n",
       "      <td>Lopes</td>\n",
       "      <td>RR</td>\n",
       "      <td>Estrela</td>\n",
       "      <td>01/07/21 11:23 AM</td>\n",
       "      <td>211.955597</td>\n",
       "      <td>13</td>\n",
       "      <td>2331.511572</td>\n",
       "      <td>11</td>\n",
       "      <td>42</td>\n",
       "      <td>organic_search</td>\n",
       "    </tr>\n",
       "    <tr>\n",
       "      <th>3</th>\n",
       "      <td>b5e4caeb-3a9b-49ed-aa33-5acd06b162c1</td>\n",
       "      <td>07/21/18 10:17 AM</td>\n",
       "      <td>01/10/21 11:23 AM</td>\n",
       "      <td>NaN</td>\n",
       "      <td>52593437a405b11b3557170680ef80c8</td>\n",
       "      <td>d3fb45188d95c8d7cc49da5b4f727c86</td>\n",
       "      <td>0a6f0c54db1e6f19347f96b50f8092a4</td>\n",
       "      <td>11/21/80 12:00 AM</td>\n",
       "      <td>active</td>\n",
       "      <td>3.34.3</td>\n",
       "      <td>Campos do Campo</td>\n",
       "      <td>PE</td>\n",
       "      <td>Confisco</td>\n",
       "      <td>01/10/21 11:23 AM</td>\n",
       "      <td>204.113227</td>\n",
       "      <td>8</td>\n",
       "      <td>1224.679359</td>\n",
       "      <td>6</td>\n",
       "      <td>39</td>\n",
       "      <td>organic_search</td>\n",
       "    </tr>\n",
       "    <tr>\n",
       "      <th>4</th>\n",
       "      <td>d4ff61fc-f008-4e19-b8ae-bd70cfa3ae27</td>\n",
       "      <td>06/08/18 12:09 PM</td>\n",
       "      <td>01/18/21 11:23 AM</td>\n",
       "      <td>NaN</td>\n",
       "      <td>dbda4b778a966c21904238ed2d2005db</td>\n",
       "      <td>a0f76bc49b4c43327b536da6e1a1465e</td>\n",
       "      <td>143b9f169b4fa1692f6d79b5682169b5</td>\n",
       "      <td>07/07/59 12:00 AM</td>\n",
       "      <td>active</td>\n",
       "      <td>3.19.8</td>\n",
       "      <td>das Neves</td>\n",
       "      <td>RJ</td>\n",
       "      <td>Vila Suzana Segunda Seção</td>\n",
       "      <td>01/18/21 11:23 AM</td>\n",
       "      <td>252.940997</td>\n",
       "      <td>9</td>\n",
       "      <td>2023.527980</td>\n",
       "      <td>8</td>\n",
       "      <td>31</td>\n",
       "      <td>crm</td>\n",
       "    </tr>\n",
       "  </tbody>\n",
       "</table>\n",
       "</div>"
      ],
      "text/plain": [
       "                                     id         created_at         updated_at   \n",
       "0  8bf7960e-3b93-468b-856e-6c6c5b56f52b  08/15/17 07:05 AM  01/14/21 11:23 AM  \\\n",
       "1  a39535b5-4647-4680-b4f6-3aed57c1f1ff  12/31/19 09:53 PM  01/08/21 11:23 AM   \n",
       "2  dc067cd2-c021-42bd-8c0e-beb267280e66  03/07/19 11:46 PM  01/07/21 11:23 AM   \n",
       "3  b5e4caeb-3a9b-49ed-aa33-5acd06b162c1  07/21/18 10:17 AM  01/10/21 11:23 AM   \n",
       "4  d4ff61fc-f008-4e19-b8ae-bd70cfa3ae27  06/08/18 12:09 PM  01/18/21 11:23 AM   \n",
       "\n",
       "  deleted_at                         name_hash   \n",
       "0        NaN  312d206168a318614897e8ccac43bff9  \\\n",
       "1        NaN  de448fcb47d0d6a873b2eef52b5ee595   \n",
       "2        NaN  cb09e447ddc38283373d56bb46498e6a   \n",
       "3        NaN  52593437a405b11b3557170680ef80c8   \n",
       "4        NaN  dbda4b778a966c21904238ed2d2005db   \n",
       "\n",
       "                         email_hash                      address_hash   \n",
       "0  83eb3aed9a44377df80ce876dce92c9a  8b4bfaa0cbc41a16f46da15ddcd6a907  \\\n",
       "1  72678bb35e2ac84ed373e81dd9dca28c  22f1cfa1847f38da3f3cb114dd2b9247   \n",
       "2  668f4ee9add29c7bd02c485f1b7509e3  6cb47446a086ee6483b3eb954f11467a   \n",
       "3  d3fb45188d95c8d7cc49da5b4f727c86  0a6f0c54db1e6f19347f96b50f8092a4   \n",
       "4  a0f76bc49b4c43327b536da6e1a1465e  143b9f169b4fa1692f6d79b5682169b5   \n",
       "\n",
       "          birth_date  status  version               city state   \n",
       "0  07/10/74 12:00 AM  active   2.31.7   Peixoto da Praia    AM  \\\n",
       "1  07/06/40 12:00 AM  paused  3.30.12          Fernandes    RR   \n",
       "2  03/18/63 12:00 AM  active   3.28.9              Lopes    RR   \n",
       "3  11/21/80 12:00 AM  active   3.34.3    Campos do Campo    PE   \n",
       "4  07/07/59 12:00 AM  active   3.19.8          das Neves    RJ   \n",
       "\n",
       "                neighborhood last_date_purchase  average_ticket   \n",
       "0         Aparecida 7ª Seção  01/14/21 11:23 AM      151.142942  \\\n",
       "1               Santa Isabel  01/08/21 11:23 AM      236.991790   \n",
       "2                    Estrela  01/07/21 11:23 AM      211.955597   \n",
       "3                   Confisco  01/10/21 11:23 AM      204.113227   \n",
       "4  Vila Suzana Segunda Seção  01/18/21 11:23 AM      252.940997   \n",
       "\n",
       "   items_quantity  all_revenue  all_orders  recency marketing_source  \n",
       "0              10   906.857651           6       35              crm  \n",
       "1               4   236.991790           1       41   organic_search  \n",
       "2              13  2331.511572          11       42   organic_search  \n",
       "3               8  1224.679359           6       39   organic_search  \n",
       "4               9  2023.527980           8       31              crm  "
      ]
     },
     "execution_count": 37,
     "metadata": {},
     "output_type": "execute_result"
    }
   ],
   "source": [
    "df.head()"
   ]
  },
  {
   "cell_type": "code",
   "execution_count": 12,
   "id": "95961fcf-645f-461d-a613-2f7e024b6d01",
   "metadata": {
    "tags": []
   },
   "outputs": [
    {
     "data": {
      "text/plain": [
       "(10000, 20)"
      ]
     },
     "execution_count": 12,
     "metadata": {},
     "output_type": "execute_result"
    }
   ],
   "source": [
    "df.shape"
   ]
  },
  {
   "cell_type": "markdown",
   "id": "c13cafb7-b5c8-40ef-9d87-386a20060c11",
   "metadata": {},
   "source": [
    "### Formatando a Coluna que contem Datas do Dataset"
   ]
  },
  {
   "cell_type": "code",
   "execution_count": 53,
   "id": "922aa5fd-086a-43fd-a5a0-cc5e3cec757c",
   "metadata": {
    "tags": []
   },
   "outputs": [],
   "source": [
    "list_date_cols = ['created_at', 'updated_at', 'deleted_at', 'last_date_purchase']"
   ]
  },
  {
   "cell_type": "code",
   "execution_count": 56,
   "id": "aa0a4a10-fb9e-47b5-af61-13e6432f7fe0",
   "metadata": {
    "tags": []
   },
   "outputs": [],
   "source": [
    "for col in list_date_cols:\n",
    "    df[col] = pd.to_datetime(df[col], format='%m/%d/%y %I:%M %p')\n",
    "    df[col] = df[col].dt.strftime('%d/%m/%y %I:%M %p')"
   ]
  },
  {
   "cell_type": "code",
   "execution_count": 69,
   "id": "b296d308-69dd-4c13-b550-a2dd511ef9bb",
   "metadata": {
    "tags": []
   },
   "outputs": [
    {
     "data": {
      "text/html": [
       "<div>\n",
       "<style scoped>\n",
       "    .dataframe tbody tr th:only-of-type {\n",
       "        vertical-align: middle;\n",
       "    }\n",
       "\n",
       "    .dataframe tbody tr th {\n",
       "        vertical-align: top;\n",
       "    }\n",
       "\n",
       "    .dataframe thead th {\n",
       "        text-align: right;\n",
       "    }\n",
       "</style>\n",
       "<table border=\"1\" class=\"dataframe\">\n",
       "  <thead>\n",
       "    <tr style=\"text-align: right;\">\n",
       "      <th></th>\n",
       "      <th>id</th>\n",
       "      <th>created_at</th>\n",
       "      <th>updated_at</th>\n",
       "      <th>deleted_at</th>\n",
       "      <th>birth_date</th>\n",
       "      <th>status</th>\n",
       "      <th>version</th>\n",
       "      <th>city</th>\n",
       "      <th>state</th>\n",
       "      <th>neighborhood</th>\n",
       "      <th>last_date_purchase</th>\n",
       "      <th>average_ticket</th>\n",
       "      <th>items_quantity</th>\n",
       "      <th>all_revenue</th>\n",
       "      <th>all_orders</th>\n",
       "      <th>recency</th>\n",
       "      <th>marketing_source</th>\n",
       "    </tr>\n",
       "  </thead>\n",
       "  <tbody>\n",
       "    <tr>\n",
       "      <th>0</th>\n",
       "      <td>8bf7960e-3b93-468b-856e-6c6c5b56f52b</td>\n",
       "      <td>15/08/17 07:05 AM</td>\n",
       "      <td>14/01/21 11:23 AM</td>\n",
       "      <td>NaN</td>\n",
       "      <td>07/10/74 12:00 AM</td>\n",
       "      <td>active</td>\n",
       "      <td>2.31.7</td>\n",
       "      <td>Peixoto da Praia</td>\n",
       "      <td>AM</td>\n",
       "      <td>Aparecida 7ª Seção</td>\n",
       "      <td>14/01/21 11:23 AM</td>\n",
       "      <td>151.14</td>\n",
       "      <td>10</td>\n",
       "      <td>906.858</td>\n",
       "      <td>6</td>\n",
       "      <td>35</td>\n",
       "      <td>crm</td>\n",
       "    </tr>\n",
       "    <tr>\n",
       "      <th>1</th>\n",
       "      <td>a39535b5-4647-4680-b4f6-3aed57c1f1ff</td>\n",
       "      <td>31/12/19 09:53 PM</td>\n",
       "      <td>08/01/21 11:23 AM</td>\n",
       "      <td>NaN</td>\n",
       "      <td>07/06/40 12:00 AM</td>\n",
       "      <td>paused</td>\n",
       "      <td>3.30.12</td>\n",
       "      <td>Fernandes</td>\n",
       "      <td>RR</td>\n",
       "      <td>Santa Isabel</td>\n",
       "      <td>08/01/21 11:23 AM</td>\n",
       "      <td>236.99</td>\n",
       "      <td>4</td>\n",
       "      <td>236.992</td>\n",
       "      <td>1</td>\n",
       "      <td>41</td>\n",
       "      <td>organic_search</td>\n",
       "    </tr>\n",
       "    <tr>\n",
       "      <th>2</th>\n",
       "      <td>dc067cd2-c021-42bd-8c0e-beb267280e66</td>\n",
       "      <td>07/03/19 11:46 PM</td>\n",
       "      <td>07/01/21 11:23 AM</td>\n",
       "      <td>NaN</td>\n",
       "      <td>03/18/63 12:00 AM</td>\n",
       "      <td>active</td>\n",
       "      <td>3.28.9</td>\n",
       "      <td>Lopes</td>\n",
       "      <td>RR</td>\n",
       "      <td>Estrela</td>\n",
       "      <td>07/01/21 11:23 AM</td>\n",
       "      <td>211.96</td>\n",
       "      <td>13</td>\n",
       "      <td>2331.512</td>\n",
       "      <td>11</td>\n",
       "      <td>42</td>\n",
       "      <td>organic_search</td>\n",
       "    </tr>\n",
       "    <tr>\n",
       "      <th>3</th>\n",
       "      <td>b5e4caeb-3a9b-49ed-aa33-5acd06b162c1</td>\n",
       "      <td>21/07/18 10:17 AM</td>\n",
       "      <td>10/01/21 11:23 AM</td>\n",
       "      <td>NaN</td>\n",
       "      <td>11/21/80 12:00 AM</td>\n",
       "      <td>active</td>\n",
       "      <td>3.34.3</td>\n",
       "      <td>Campos do Campo</td>\n",
       "      <td>PE</td>\n",
       "      <td>Confisco</td>\n",
       "      <td>10/01/21 11:23 AM</td>\n",
       "      <td>204.11</td>\n",
       "      <td>8</td>\n",
       "      <td>1224.679</td>\n",
       "      <td>6</td>\n",
       "      <td>39</td>\n",
       "      <td>organic_search</td>\n",
       "    </tr>\n",
       "    <tr>\n",
       "      <th>4</th>\n",
       "      <td>d4ff61fc-f008-4e19-b8ae-bd70cfa3ae27</td>\n",
       "      <td>08/06/18 12:09 PM</td>\n",
       "      <td>18/01/21 11:23 AM</td>\n",
       "      <td>NaN</td>\n",
       "      <td>07/07/59 12:00 AM</td>\n",
       "      <td>active</td>\n",
       "      <td>3.19.8</td>\n",
       "      <td>das Neves</td>\n",
       "      <td>RJ</td>\n",
       "      <td>Vila Suzana Segunda Seção</td>\n",
       "      <td>18/01/21 11:23 AM</td>\n",
       "      <td>252.94</td>\n",
       "      <td>9</td>\n",
       "      <td>2023.528</td>\n",
       "      <td>8</td>\n",
       "      <td>31</td>\n",
       "      <td>crm</td>\n",
       "    </tr>\n",
       "  </tbody>\n",
       "</table>\n",
       "</div>"
      ],
      "text/plain": [
       "                                     id         created_at         updated_at   \n",
       "0  8bf7960e-3b93-468b-856e-6c6c5b56f52b  15/08/17 07:05 AM  14/01/21 11:23 AM  \\\n",
       "1  a39535b5-4647-4680-b4f6-3aed57c1f1ff  31/12/19 09:53 PM  08/01/21 11:23 AM   \n",
       "2  dc067cd2-c021-42bd-8c0e-beb267280e66  07/03/19 11:46 PM  07/01/21 11:23 AM   \n",
       "3  b5e4caeb-3a9b-49ed-aa33-5acd06b162c1  21/07/18 10:17 AM  10/01/21 11:23 AM   \n",
       "4  d4ff61fc-f008-4e19-b8ae-bd70cfa3ae27  08/06/18 12:09 PM  18/01/21 11:23 AM   \n",
       "\n",
       "  deleted_at         birth_date  status  version               city state   \n",
       "0        NaN  07/10/74 12:00 AM  active   2.31.7   Peixoto da Praia    AM  \\\n",
       "1        NaN  07/06/40 12:00 AM  paused  3.30.12          Fernandes    RR   \n",
       "2        NaN  03/18/63 12:00 AM  active   3.28.9              Lopes    RR   \n",
       "3        NaN  11/21/80 12:00 AM  active   3.34.3    Campos do Campo    PE   \n",
       "4        NaN  07/07/59 12:00 AM  active   3.19.8          das Neves    RJ   \n",
       "\n",
       "                neighborhood last_date_purchase  average_ticket   \n",
       "0         Aparecida 7ª Seção  14/01/21 11:23 AM          151.14  \\\n",
       "1               Santa Isabel  08/01/21 11:23 AM          236.99   \n",
       "2                    Estrela  07/01/21 11:23 AM          211.96   \n",
       "3                   Confisco  10/01/21 11:23 AM          204.11   \n",
       "4  Vila Suzana Segunda Seção  18/01/21 11:23 AM          252.94   \n",
       "\n",
       "   items_quantity  all_revenue  all_orders  recency marketing_source  \n",
       "0              10      906.858           6       35              crm  \n",
       "1               4      236.992           1       41   organic_search  \n",
       "2              13     2331.512          11       42   organic_search  \n",
       "3               8     1224.679           6       39   organic_search  \n",
       "4               9     2023.528           8       31              crm  "
      ]
     },
     "execution_count": 69,
     "metadata": {},
     "output_type": "execute_result"
    }
   ],
   "source": [
    "df.head()"
   ]
  },
  {
   "cell_type": "markdown",
   "id": "26c15b2a-8aa5-440d-aae0-a22849d24d23",
   "metadata": {},
   "source": [
    "### Deletando as Colunas que não usaremos durante a Análise"
   ]
  },
  {
   "cell_type": "code",
   "execution_count": 58,
   "id": "67bba1b3-cdcd-46f2-8ab7-3844975abfb1",
   "metadata": {
    "tags": []
   },
   "outputs": [],
   "source": [
    "df.drop(columns=['name_hash', 'email_hash', 'address_hash'], inplace=True)"
   ]
  },
  {
   "cell_type": "code",
   "execution_count": 59,
   "id": "ad865b34-73f0-422e-b0b1-c1212e4ce119",
   "metadata": {
    "tags": []
   },
   "outputs": [
    {
     "data": {
      "text/plain": [
       "Index(['id', 'created_at', 'updated_at', 'deleted_at', 'birth_date', 'status',\n",
       "       'version', 'city', 'state', 'neighborhood', 'last_date_purchase',\n",
       "       'average_ticket', 'items_quantity', 'all_revenue', 'all_orders',\n",
       "       'recency', 'marketing_source'],\n",
       "      dtype='object')"
      ]
     },
     "execution_count": 59,
     "metadata": {},
     "output_type": "execute_result"
    }
   ],
   "source": [
    "df.columns"
   ]
  },
  {
   "cell_type": "markdown",
   "id": "a6b03427-ec38-48ee-a084-9ff7a1734ab0",
   "metadata": {
    "tags": []
   },
   "source": [
    "### Arredondando Valores de algumas Colunas"
   ]
  },
  {
   "cell_type": "code",
   "execution_count": 67,
   "id": "056166a4-164a-492e-99f2-52c673f843b4",
   "metadata": {
    "tags": []
   },
   "outputs": [],
   "source": [
    "list_col_values = ['all_revenue', 'average_ticket']"
   ]
  },
  {
   "cell_type": "code",
   "execution_count": 68,
   "id": "04efa405-c900-4183-b3cc-6371792a16eb",
   "metadata": {
    "tags": []
   },
   "outputs": [],
   "source": [
    "for col in list_col_values:\n",
    "    df[col] = df[col].round(3)"
   ]
  },
  {
   "cell_type": "markdown",
   "id": "c1a51e58-41f8-4ea5-b28e-348e779482aa",
   "metadata": {
    "jp-MarkdownHeadingCollapsed": true,
    "tags": []
   },
   "source": [
    "# Análise Petlove"
   ]
  },
  {
   "cell_type": "code",
   "execution_count": 16,
   "id": "83b5a735-6ed6-4568-9226-5b677e7e448b",
   "metadata": {
    "tags": []
   },
   "outputs": [
    {
     "data": {
      "image/png": "[encoded data removed]",
      "text/plain": [
       "<Figure size 432x288 with 1 Axes>"
      ]
     },
     "metadata": {
      "needs_background": "light"
     },
     "output_type": "display_data"
    }
   ],
   "source": [
    "_ = plt.hist(df.average_ticket)\n",
    "_ = plt.title('Histograma da Média de Gasto por Pedido')"
   ]
  },
  {
   "cell_type": "code",
   "execution_count": 25,
   "id": "05f466ea-395c-4283-838b-accb2dea3b76",
   "metadata": {
    "tags": []
   },
   "outputs": [
    {
     "data": {
      "text/plain": [
       "state\n",
       "TO    0.0409\n",
       "GO    0.0403\n",
       "RR    0.0396\n",
       "PR    0.0385\n",
       "RS    0.0382\n",
       "AP    0.0381\n",
       "RO    0.0381\n",
       "AM    0.0380\n",
       "CE    0.0378\n",
       "RJ    0.0377\n",
       "MS    0.0374\n",
       "MG    0.0373\n",
       "PB    0.0372\n",
       "SC    0.0370\n",
       "MT    0.0368\n",
       "BA    0.0368\n",
       "PE    0.0367\n",
       "SE    0.0367\n",
       "AC    0.0357\n",
       "DF    0.0357\n",
       "MA    0.0354\n",
       "SP    0.0354\n",
       "RN    0.0353\n",
       "AL    0.0353\n",
       "ES    0.0352\n",
       "PA    0.0351\n",
       "PI    0.0338\n",
       "Name: proportion, dtype: float64"
      ]
     },
     "execution_count": 25,
     "metadata": {},
     "output_type": "execute_result"
    }
   ],
   "source": [
    "df.state.value_counts(1)                  "
   ]
  },
  {
   "cell_type": "code",
   "execution_count": 22,
   "id": "605066b6-37a1-44ce-8979-1ab9c5befbc9",
   "metadata": {
    "tags": []
   },
   "outputs": [
    {
     "data": {
      "image/png": "[encoded data removed]",
      "text/plain": [
       "<Figure size 432x288 with 1 Axes>"
      ]
     },
     "metadata": {
      "needs_background": "light"
     },
     "output_type": "display_data"
    }
   ],
   "source": [
    "_ = df.marketing_source.value_counts(1).plot.bar()\n",
    "_ = plt.title('Assinaturas convertidas por canal de Marketing')"
   ]
  },
  {
   "cell_type": "code",
   "execution_count": null,
   "id": "af6a4ff3-338c-4e3d-94fc-636ef0474e72",
   "metadata": {},
   "outputs": [],
   "source": []
  },
  {
   "cell_type": "code",
   "execution_count": null,
   "id": "982f4af1-fa78-46dd-aee8-2fc4707b5070",
   "metadata": {},
   "outputs": [],
   "source": []
  }
 ],
 "metadata": {
  "kernelspec": {
   "display_name": "Python 3 (ipykernel)",
   "language": "python",
   "name": "python3"
  },
  "language_info": {
   "codemirror_mode": {
    "name": "ipython",
    "version": 3
   },
   "file_extension": ".py",
   "mimetype": "text/x-python",
   "name": "python",
   "nbconvert_exporter": "python",
   "pygments_lexer": "ipython3",
   "version": "3.10.0"
  }
 },
 "nbformat": 4,
 "nbformat_minor": 5
}
